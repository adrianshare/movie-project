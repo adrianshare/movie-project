{
 "cells": [
  {
   "cell_type": "markdown",
   "metadata": {},
   "source": [
    "# Movie Theme Extraction and Labeling\n",
    "\n",
    "The goal of this project is to automate the extraction of labeled themes from movie overviews. These themes can replace the overview as a faster and more consistent way of determining what the movie is about. The defined themes would also allow for faster filtering that would allow the user to find a more exact match based on viewing mood."
   ]
  },
  {
   "cell_type": "code",
   "execution_count": 1,
   "metadata": {},
   "outputs": [],
   "source": [
    "import pandas as pd"
   ]
  },
  {
   "cell_type": "markdown",
   "metadata": {},
   "source": [
    "\n",
    "Data used for this project can be found here https://www.kaggle.com/rounakbanik/the-movies-dataset\n",
    "\n",
    "We will use the overviews and titles from the movies_metadata.csv"
   ]
  },
  {
   "cell_type": "code",
   "execution_count": null,
   "metadata": {},
   "outputs": [],
   "source": [
    "df = pd.read_csv('the-movies-dataset\\movies_metadata.csv')"
   ]
  },
  {
   "cell_type": "code",
   "execution_count": 11,
   "metadata": {},
   "outputs": [],
   "source": [
    "overviews = df['overview'].apply(str).tolist()\n",
    "overviews = \" \".join(overviews)    #prepare for word_tokenize"
   ]
  },
  {
   "cell_type": "markdown",
   "metadata": {},
   "source": [
    "# Data Preparation\n",
    "\n",
    "Names like Alan and Jack are common and will appear influence topic model distributions. Given that names are interchangeable when discussing themes, we will identify and remove them as a part of the data preparation process."
   ]
  },
  {
   "cell_type": "code",
   "execution_count": 10,
   "metadata": {},
   "outputs": [],
   "source": [
    "import nltk"
   ]
  },
  {
   "cell_type": "code",
   "execution_count": 14,
   "metadata": {},
   "outputs": [],
   "source": [
    "tokens = nltk.word_tokenize(overviews)\n",
    "tokens_pos = nltk.pos_tag(tokens)"
   ]
  },
  {
   "cell_type": "markdown",
   "metadata": {},
   "source": [
    "### Named Entity Recognition:\n",
    "\n",
    "Use named entity recognition to detect names in the corpus. The ne_chunk function is used to extract chunks from the tagged pos tokens and will return person, places and organizations. "
   ]
  },
  {
   "cell_type": "code",
   "execution_count": 15,
   "metadata": {},
   "outputs": [],
   "source": [
    "ne_tree = nltk.ne_chunk(tokens_pos)"
   ]
  },
  {
   "cell_type": "code",
   "execution_count": 17,
   "metadata": {},
   "outputs": [],
   "source": [
    "#build list of people to remove\n",
    "people = []                                 \n",
    "for subtree in ne_tree.subtrees():\n",
    "    if subtree.label() == 'PERSON':\n",
    "        person = []\n",
    "        for key, value in subtree.leaves():\n",
    "            person.append(key)\n",
    "        people.append(person)"
   ]
  },
  {
   "cell_type": "code",
   "execution_count": 92,
   "metadata": {},
   "outputs": [],
   "source": [
    "#counter gives count of each name \n",
    "import collections, operator\n",
    "people_unique = collections.Counter(map(tuple, people))"
   ]
  },
  {
   "cell_type": "markdown",
   "metadata": {},
   "source": [
    "Named entity recognition identifies some chunks that are not names. Using the frequency list of people_unique and manual check of the high frequency terms is done to create a list of misidentified entites that should remain in the corpus."
   ]
  },
  {
   "cell_type": "code",
   "execution_count": 101,
   "metadata": {},
   "outputs": [],
   "source": [
    "exclude_list = [('Hollywood'),('Christmas','Eve'),('San', 'Francisco'), ('Las', 'Vegas'), ('Santa', 'Claus'),\n",
    "                ('Christmas',), ('Hollywood',), ('Superman',), ('Academy',), ('Godzilla',), ('Academy', 'Award'),\n",
    "                ('Buenos', 'Aires'), ('Jesus', 'Christ'),('Pearl', 'Harbor'), ('Louisiana',), ('Sequel',), ('Father',), \n",
    "                ('Wealthy',), ('Disney',), ('Count', 'Dracula'),('Los', 'Angeles'), ('Monster', 'High'), ('Brazil',), \n",
    "                ('Shaolin',), ('Halloween',), ('Navy','SEALS')\n",
    "               ]"
   ]
  },
  {
   "cell_type": "code",
   "execution_count": 102,
   "metadata": {},
   "outputs": [],
   "source": [
    "#return clean list of names minus the misidentified names\n",
    "people_clean = []\n",
    "for key,val in sorted(people_unique.items(), key=operator.itemgetter(1), reverse = True):\n",
    "    if key not in exclude_list:\n",
    "        people_clean.append(' '.join(key))"
   ]
  },
  {
   "cell_type": "markdown",
   "metadata": {},
   "source": [
    "## Prep data:\n",
    "\n",
    "* remove people's names\n",
    "* remove stop words\n",
    "* remove punctuation\n",
    "* lemmatization"
   ]
  },
  {
   "cell_type": "code",
   "execution_count": 104,
   "metadata": {},
   "outputs": [],
   "source": [
    "import string\n",
    "from nltk.corpus import stopwords\n",
    "from nltk.stem.wordnet import WordNetLemmatizer\n",
    "stops = stopwords.words('english')\n",
    "lemmatizer = WordNetLemmatizer()\n",
    "\n",
    "other_stops = [\"'s\",\"--\",\"...\"]\n",
    "stops.extend(other_stops)\n",
    "\n",
    "\n",
    "texts = []\n",
    "for sent in df['overview'].apply(str):\n",
    "    text = nltk.word_tokenize(sent)\n",
    "    text = ['PERSON' if word in people_clean else word for word in text  ]  #replace name with PERSON\n",
    "    text = [word.lower() for word in text] \n",
    "    text = [word for word in text if word not in stops]\n",
    "    text = [lemmatizer.lemmatize(word) for word in text]\n",
    "    text = [word for word in text if word not in string.punctuation ] \n",
    "    texts.append(text)"
   ]
  },
  {
   "cell_type": "code",
   "execution_count": 142,
   "metadata": {},
   "outputs": [
    {
     "name": "stdout",
     "output_type": "stream",
     "text": [
      "[['led', 'toy', 'live', 'happily', 'room', 'birthday', 'brings', 'lightyear', 'onto', 'scene', 'losing', 'place', 'heart', 'plot', 'circumstance', 'separate', 'owner', 'duo', 'eventually', 'learns', 'put', 'aside', 'difference'], ['sibling', 'discover', 'enchanted', 'board', 'game', 'open', 'door', 'magical', 'world', 'unwittingly', 'invite', 'adult', 'trapped', 'inside', 'game', 'year', 'living', 'room', 'hope', 'freedom', 'finish', 'game', 'prof', 'risky', 'three', 'find', 'running', 'giant', 'rhinoceros', 'evil', 'monkey', 'terrifying', 'creature']]\n"
     ]
    }
   ],
   "source": [
    "#additional cleaning \n",
    "more_stops = [\"``\",\"'ll\",\"''\"]\n",
    "texts_clean = [[word for word in text if word != 'person'] for text in texts]     #remove identified names\n",
    "texts_clean = [[word for word in text if word not in more_stops] for text in texts_clean]\n",
    "texts_clean = [[word for word in text if len(word) > 2] for text in texts_clean]\n",
    "print(texts_clean[:2])"
   ]
  },
  {
   "cell_type": "markdown",
   "metadata": {},
   "source": [
    "## LDA topic modeling\n",
    "\n",
    "Latent Dirichlet Allocation will be used for topic modeling. "
   ]
  },
  {
   "cell_type": "code",
   "execution_count": 107,
   "metadata": {},
   "outputs": [],
   "source": [
    "import logging\n",
    "logging.basicConfig(format='%(asctime)s : %(levelname)s : %(message)s', level=logging.INFO)\n",
    "from gensim import corpora, models"
   ]
  },
  {
   "cell_type": "code",
   "execution_count": null,
   "metadata": {},
   "outputs": [],
   "source": [
    "#build bag of words representation of all documents \n",
    "dictionary = corpora.Dictionary(texts_clean)\n",
    "corpus = [dictionary.doc2bow(text) for text in texts_clean ]"
   ]
  },
  {
   "cell_type": "markdown",
   "metadata": {},
   "source": [
    "## 300 topics chosen after multiple iterations and coherence score testing\n",
    "\n",
    "Choosing the right number of topics is an iterative process. After multiple tests, the number of topics that gave the best results was 300. The coherence score and visualization of the topic models for human readability were part of the evaluation process."
   ]
  },
  {
   "cell_type": "code",
   "execution_count": null,
   "metadata": {},
   "outputs": [],
   "source": [
    "lda = models.ldamodel.LdaModel(corpus=corpus, id2word=dictionary, num_topics=300, update_every=1, chunksize=5000, passes=3)"
   ]
  },
  {
   "cell_type": "code",
   "execution_count": 146,
   "metadata": {},
   "outputs": [
    {
     "name": "stderr",
     "output_type": "stream",
     "text": [
      "2018-12-15 11:19:36,196 : INFO : using ParallelWordOccurrenceAccumulator(processes=3, batch_size=64) to estimate probabilities from sliding windows\n",
      "2018-12-15 11:23:17,776 : INFO : 3 accumulators retrieved from output queue\n",
      "2018-12-15 11:23:57,353 : INFO : accumulated word occurrence stats for 44438 virtual documents\n"
     ]
    },
    {
     "name": "stdout",
     "output_type": "stream",
     "text": [
      "0.3910022859034032\n"
     ]
    }
   ],
   "source": [
    "#get coherence score \n",
    "from gensim.models.coherencemodel import CoherenceModel\n",
    "cm = CoherenceModel(model=lda, texts=texts_clean, corpus=corpus, coherence='c_v')\n",
    "coherence = cm.get_coherence()  \n",
    "print(coherence)"
   ]
  },
  {
   "cell_type": "markdown",
   "metadata": {},
   "source": [
    "The pyLDAvis library provides a convenient way to visualize the topics and the distribution of terms in each topic."
   ]
  },
  {
   "cell_type": "code",
   "execution_count": null,
   "metadata": {},
   "outputs": [],
   "source": [
    "import pyLDAvis.gensim\n",
    "vis = pyLDAvis.gensim.prepare(lda, corpus, dictionary)\n",
    "pyLDAvis.display(vis)"
   ]
  },
  {
   "cell_type": "markdown",
   "metadata": {},
   "source": [
    "# Seed Labels\n",
    "\n",
    "Two types of chunk patterns will form the basis of the seed phrases. We are looking to form two word phrases that represent things and terms as described by the corpus. The idea is that themes would be explicitly described during some of the overview creations and that similarity mesures can be used to aplly the common themes as labels."
   ]
  },
  {
   "cell_type": "code",
   "execution_count": 113,
   "metadata": {},
   "outputs": [],
   "source": [
    "thing_chunker = \"CHUNK: {<NN><NN>}\"\n",
    "term_chunker = \"CHUNK: {<JJ.*><NN>}\"\n",
    "thing_parser = nltk.RegexpParser(thing_chunker)\n",
    "term_parser = nltk.RegexpParser(term_chunker)"
   ]
  },
  {
   "cell_type": "code",
   "execution_count": 114,
   "metadata": {},
   "outputs": [],
   "source": [
    "thing_tree = thing_parser.parse(tokens_pos)\n",
    "term_tree = term_parser.parse(tokens_pos)"
   ]
  },
  {
   "cell_type": "code",
   "execution_count": 115,
   "metadata": {},
   "outputs": [],
   "source": [
    "labels = []\n",
    "for subtree in thing_tree.subtrees():\n",
    "    if subtree.label() == 'CHUNK':\n",
    "        label = []\n",
    "        for key, value in subtree.leaves():\n",
    "            label.append(key)\n",
    "        #print(label)\n",
    "        labels.append(label)\n",
    "for subtree in term_tree.subtrees():\n",
    "    if subtree.label() == 'CHUNK':\n",
    "        label = []\n",
    "        for key, value in subtree.leaves():\n",
    "            label.append(key)\n",
    "        #print(label)\n",
    "        labels.append(label)"
   ]
  },
  {
   "cell_type": "code",
   "execution_count": 116,
   "metadata": {},
   "outputs": [],
   "source": [
    "unique_labels = [list(label) for label in set(tuple(label) for label in labels)]"
   ]
  },
  {
   "cell_type": "markdown",
   "metadata": {},
   "source": [
    "We can examine the seed list to find potential matches that contain a specific word."
   ]
  },
  {
   "cell_type": "code",
   "execution_count": 369,
   "metadata": {
    "scrolled": true
   },
   "outputs": [
    {
     "data": {
      "text/plain": [
       "[['chess', 'club'],\n",
       " ['ground', 'club'],\n",
       " ['bondage', 'club'],\n",
       " ['grime', 'club'],\n",
       " ['sex', 'club'],\n",
       " ['senior', 'club'],\n",
       " ['club', 'member'],\n",
       " ['club', 'proprietor'],\n",
       " ['club', 'scene'],\n",
       " ['auto', 'club'],\n",
       " ['roll', 'club'],\n",
       " ['club', 'kid'],\n",
       " ['motorcycle', 'club'],\n",
       " ['trendy', 'club'],\n",
       " ['volleyball', 'club'],\n",
       " ['happy', 'club'],\n",
       " ['dance', 'club'],\n",
       " ['monster', 'club'],\n",
       " ['club', 'life'],\n",
       " ['soccer', 'club'],\n",
       " ['club', 'championship'],\n",
       " ['private', 'club'],\n",
       " ['underground', 'club'],\n",
       " ['gay', 'club'],\n",
       " ['club', 'manager'],\n",
       " ['secret', 'club'],\n",
       " ['football', 'club'],\n",
       " ['bowling', 'club'],\n",
       " ['trout', 'club'],\n",
       " ['golf', 'club'],\n",
       " ['correspondence', 'club'],\n",
       " ['Spanish', 'club'],\n",
       " ['exclusive', 'club'],\n",
       " ['supper', 'club'],\n",
       " ['manipulative', 'club'],\n",
       " ['gourmet', 'club'],\n",
       " ['jazz', 'club'],\n",
       " ['club', 'house'],\n",
       " ['female', 'club'],\n",
       " ['gambling', 'club'],\n",
       " ['night', 'club'],\n",
       " ['fist', 'club'],\n",
       " ['hunting', 'club'],\n",
       " ['sumo', 'club'],\n",
       " ['club', 'dancer'],\n",
       " ['poetry', 'club'],\n",
       " ['go-go', 'club'],\n",
       " ['country', 'club'],\n",
       " ['wild', 'club'],\n",
       " ['club', 'hostess'],\n",
       " ['club', 'spree'],\n",
       " ['secretive', 'club'],\n",
       " ['club', 'downtown'],\n",
       " ['science-fiction', 'club'],\n",
       " ['club', 'singer'],\n",
       " ['rollerskating', 'club'],\n",
       " ['favorite', 'club'],\n",
       " ['club', 'dinner'],\n",
       " ['photography', 'club'],\n",
       " ['boxing', 'club'],\n",
       " ['own', 'club'],\n",
       " ['glee', 'club'],\n",
       " ['insensitive', 'club'],\n",
       " ['fan', 'club'],\n",
       " ['babysitter', 'club'],\n",
       " ['student', 'club'],\n",
       " ['superstar', 'club'],\n",
       " [\"'death\", 'club'],\n",
       " ['local', 'club'],\n",
       " ['crew', 'club'],\n",
       " ['school', 'club'],\n",
       " ['tennis', 'club'],\n",
       " ['hip-hop', 'club'],\n",
       " ['academic', 'club'],\n",
       " ['boating', 'club'],\n",
       " ['robotics', 'club'],\n",
       " ['club', 'owner'],\n",
       " ['strip', 'club'],\n",
       " ['book', 'club'],\n",
       " ['fight', 'club'],\n",
       " ['Rotary', 'club'],\n",
       " ['fancy', 'club'],\n",
       " ['singing', 'club'],\n",
       " ['veteran', 'club'],\n",
       " ['music', 'club'],\n",
       " ['comedy', 'club'],\n",
       " ['wealthy', 'club'],\n",
       " ['club', 'attendant'],\n",
       " ['hoofer', 'club'],\n",
       " ['elite', 'club'],\n",
       " ['social', 'club'],\n",
       " ['literature', 'club'],\n",
       " ['transvestite', 'club'],\n",
       " ['after-school', 'club'],\n",
       " ['health', 'club'],\n",
       " ['chastity', 'club']]"
      ]
     },
     "execution_count": 369,
     "metadata": {},
     "output_type": "execute_result"
    }
   ],
   "source": [
    "potentials = [label for label in unique_labels if 'club' in label]\n",
    "potentials"
   ]
  },
  {
   "cell_type": "markdown",
   "metadata": {},
   "source": [
    "### High potential phrases\n",
    "\n",
    "Here we will collect the top high potential phrases for each topic. \n",
    "1. For each word in the topic model find potentials that have one matching word\n",
    "2. Convert each matching phrase to a bow model using the same dictionary used for lda training\n",
    "3. Get topic model for the phrase\n",
    "4.  Save if topic matches current topic and probability is high "
   ]
  },
  {
   "cell_type": "code",
   "execution_count": null,
   "metadata": {},
   "outputs": [],
   "source": [
    "top_matches = {}\n",
    "for topic_id, words in lda.print_topics(300):\n",
    "    top_match = []\n",
    "    top = 0\n",
    "    for word, rat in lda.show_topic(topic_id):\n",
    "        potentials = [label for label in unique_labels if word in label]\n",
    "        for potential in potentials:\n",
    "            unseen = dictionary.doc2bow(potential)\n",
    "            for topic, prob in lda[unseen]:\n",
    "                if topic ==topic_id and prob > 0.6:\n",
    "                    if topic in top_matches:\n",
    "                        top_matches[topic].append(list(potential))\n",
    "                    else:\n",
    "                        top_matches.update({topic : [list(potential)]})\n",
    "                    if prob > top:\n",
    "                        top = prob\n",
    "                        top_match = list(potential)"
   ]
  },
  {
   "cell_type": "markdown",
   "metadata": {},
   "source": [
    "# Replace overview with a list of themes"
   ]
  },
  {
   "cell_type": "code",
   "execution_count": 217,
   "metadata": {},
   "outputs": [],
   "source": [
    "#create Movie class\n",
    "class Movie:\n",
    "    def __init__(self, doc_id, title, overview, topics, labels, label_score):\n",
    "        self.doc_id = doc_id\n",
    "        self.title = title\n",
    "        self.overview = overview\n",
    "        self.topics = topics\n",
    "        self.labels = dict(labels)\n",
    "        self.label_score = label_score"
   ]
  },
  {
   "cell_type": "code",
   "execution_count": null,
   "metadata": {},
   "outputs": [],
   "source": [
    "#tfidf model to be used to improve similarity scores\n",
    "tfidf = models.TfidfModel(corpus)"
   ]
  },
  {
   "cell_type": "markdown",
   "metadata": {},
   "source": [
    "## Get a single label for each topic in an overview\n",
    "\n",
    "1. Get all the topics  above a minimum threshold for each document\n",
    "2. Get all the high potential phrases for the topic\n",
    "3. Covert the phrase to a tfidf bow model\n",
    "4. Compare phrase and document cosine similarity \n",
    "5. Keep highest score above a minimum threshold\n",
    "\n",
    "If no label meets the minimum threshold then we ignore that topic for overview replacement."
   ]
  },
  {
   "cell_type": "code",
   "execution_count": 221,
   "metadata": {},
   "outputs": [],
   "source": [
    "from gensim import matutils\n",
    "\n",
    "\n",
    "def get_movie_labels(doc_id):  \n",
    "    top_pot_labels = {}\n",
    "    for topic_id,prob in lda.get_document_topics(corpus[doc_id], minimum_probability=0.03): \n",
    "        top_pot_score = 0\n",
    "        top_pot_label = []\n",
    "        for pot in top_matches[topic_id]:\n",
    "            pot_corpus = tfidf[dictionary.doc2bow(pot)]\n",
    "            #label score\n",
    "            pot_score = matutils.cossim(tfidf[corpus[doc_id]], pot_corpus)\n",
    "            if pot_score > top_pot_score and pot_score > 0.05:\n",
    "                top_pot_label = list(pot)\n",
    "                top_pot_score = pot_score\n",
    "        if len(top_pot_label) > 0 : top_pot_labels.update({topic_id : list(top_pot_label)})\n",
    "\n",
    "    \n",
    "    top_pot_sent = []\n",
    "    for key in top_pot_labels:\n",
    "        top_pot_sent.append(list(top_pot_labels[key]))\n",
    "    top_pot_sent = [word for label in top_pot_sent for word in label]\n",
    "\n",
    "    label_score = matutils.cossim(tfidf[corpus[doc_id]], tfidf[dictionary.doc2bow(top_pot_sent)])\n",
    "    title = df['title'].loc[doc_id]\n",
    "    overview = df['overview'].loc[doc_id ]\n",
    "    topics = {}\n",
    "    for key, value in lda[corpus[doc_id]]:\n",
    "        topics.update({key : value})\n",
    "    \n",
    "    new_movie = Movie(doc_id, title, overview, topics, top_pot_labels, label_score )\n",
    "    return new_movie"
   ]
  },
  {
   "cell_type": "markdown",
   "metadata": {},
   "source": [
    "## Build dictionary of movie objects with theme lists and write to csv file"
   ]
  },
  {
   "cell_type": "code",
   "execution_count": 223,
   "metadata": {},
   "outputs": [],
   "source": [
    "movies = {}\n",
    "for doc_id in range(len(corpus)):\n",
    "    movies.update( {doc_id: get_movie_labels(doc_id)})"
   ]
  },
  {
   "cell_type": "code",
   "execution_count": 249,
   "metadata": {},
   "outputs": [],
   "source": [
    "import csv\n",
    "\n",
    "with open('movie_labels.csv', 'w', newline='', encoding='utf-8') as csvfile:\n",
    "    fieldnames = ['doc_id', 'title','overview', 'topics', 'labels','label_score' ]\n",
    "    writer = csv.DictWriter(csvfile, fieldnames=fieldnames)\n",
    "\n",
    "    for movie in range(len(movies)):\n",
    "        try:\n",
    "            writer.writerow({'doc_id': movies[movie].doc_id, 'title':movies[movie].title, 'overview':movies[movie].overview ,\n",
    "                         'topics': movies[movie].topics, 'labels': movies[movie].labels , 'label_score': movies[movie].label_score})\n",
    "        except:\n",
    "            print(movie, 'failed')"
   ]
  },
  {
   "cell_type": "markdown",
   "metadata": {},
   "source": [
    "## Build dictionary of topics and their associated documents\n",
    "\n",
    "Gather the list of documents for each topic. The labels from the movie object is used instead of the full topic distribution. This will increase the accuracy of the filtered list of movies that match multiple topics. "
   ]
  },
  {
   "cell_type": "code",
   "execution_count": 264,
   "metadata": {},
   "outputs": [],
   "source": [
    "from collections import defaultdict\n",
    "topics_docs = defaultdict(list)\n",
    "\n",
    "for i, doc in enumerate(movies):\n",
    "    for key in movies[i].labels:\n",
    "        topics_docs[key].append(i)"
   ]
  },
  {
   "cell_type": "markdown",
   "metadata": {},
   "source": [
    "## Get global label based on frequency of words in associated documents\n",
    "\n",
    "\n",
    "\n",
    "1. Get documents associated with topic \n",
    "2. Build word frequency list for top x words\n",
    "3. Covert the phrase to a tfidf bow model\n",
    "4. Get cosine similarity for high potential phrases and top frequency list\n",
    "5. Keep the highest score as the top label\n",
    "\n"
   ]
  },
  {
   "cell_type": "code",
   "execution_count": 361,
   "metadata": {},
   "outputs": [],
   "source": [
    "def get_top_label(topic_id):\n",
    "    num_words  = 10       #number of top frequency words to return\n",
    "    prob_thres = 0.1      #minimum threshold for probability of topic in document\n",
    "    topic_docs = []\n",
    "\n",
    "    for doc in topics_docs[topic_id]:\n",
    "        doc_topics = lda.get_document_topics(corpus[doc], minimum_probability=prob_thres)\n",
    "        for key, value in doc_topics:\n",
    "            if  key == topic_id:\n",
    "                topic_docs.append(corpus[doc])\n",
    "\n",
    "    freq_dict = {}\n",
    "    for doc in topic_docs:\n",
    "        for word, count in doc:\n",
    "            if word in freq_dict:\n",
    "                freq_dict[word] += count\n",
    "            else:\n",
    "                freq_dict.update({word: count})\n",
    "\n",
    "    sorted_dict =  sorted(freq_dict.items(), key=operator.itemgetter(1), reverse=True)\n",
    "\n",
    "\n",
    "    freq_words = []\n",
    "    for key, value in sorted_dict[:num_words]:\n",
    "        freq_words.append(dictionary.id2token[key])\n",
    "    print('Word Frequency:',freq_words)\n",
    "    freq_corpus = tfidf[dictionary.doc2bow(freq_words)]\n",
    "\n",
    "    top_score = 0\n",
    "    top_score_match = []\n",
    "\n",
    "    for pot in top_matches[topic_id]:\n",
    "        pot_corpus = tfidf[dictionary.doc2bow(pot)]\n",
    "        #label score\n",
    "        pot_score = matutils.cossim(freq_corpus , pot_corpus)\n",
    "        if pot_score > top_score:\n",
    "            top_score_match = list(pot)\n",
    "            top_score = pot_score\n",
    "            \n",
    "    return top_score_match"
   ]
  },
  {
   "cell_type": "code",
   "execution_count": 340,
   "metadata": {},
   "outputs": [
    {
     "name": "stdout",
     "output_type": "stream",
     "text": [
      "['life', 'family', 'woman', 'always', 'friend', 'vision', 'young', 'man', 'get', 'one']\n",
      "['cheerful', 'woman']\n",
      "[('always', 0.120550446), ('cross', 0.05623309), ('vision', 0.043705042), ('life', 0.039183065), ('loving', 0.026004331), ('charm', 0.02297734), ('wrote', 0.02174493), ('architect', 0.021143453), ('friend', 0.020754363), ('woman', 0.019915445)]\n",
      "[['cross', 'country'], ['new', 'vision'], ['vision', 'move'], ['end', 'life'], ['stripper', 'life'], ['loving', 'relationship'], ['loving', 'wife'], ['loving', 'look'], ['loving', 'family'], ['enough', 'charm'], ['country', 'charm'], ['open-hearted', 'charm'], ['famous', 'architect'], ['young', 'architect'], ['dumb', 'woman'], ['cheerful', 'woman']]\n"
     ]
    }
   ],
   "source": [
    "print(get_top_label(56))\n",
    "print(lda.show_topic(56))\n",
    "print(top_matches[56])"
   ]
  },
  {
   "cell_type": "markdown",
   "metadata": {},
   "source": [
    "\n",
    "\n",
    "\n",
    "============================\n",
    "\n",
    "\n",
    "# Demo Section\n",
    "\n",
    "============================"
   ]
  },
  {
   "cell_type": "code",
   "execution_count": 305,
   "metadata": {},
   "outputs": [],
   "source": [
    "import pprint\n",
    "pp = pprint.PrettyPrinter(indent=4)\n",
    "\n",
    "def print_movie_details(movie_id): \n",
    "    temp_movie = get_movie_labels(movie_id ) \n",
    "    print(\"Title:\", temp_movie.title)\n",
    "    print(\"Overview:\" ,temp_movie.overview)\n",
    "    pp.pprint(temp_movie.labels)"
   ]
  },
  {
   "cell_type": "markdown",
   "metadata": {},
   "source": [
    "## Sample document \n",
    "\n",
    "use: <br>\n",
    "print_movie_details(movie_id)<br>\n",
    "movie_id range from 0 - 45465\n"
   ]
  },
  {
   "cell_type": "code",
   "execution_count": 367,
   "metadata": {},
   "outputs": [
    {
     "name": "stdout",
     "output_type": "stream",
     "text": [
      "Title: Field of Dreams\n",
      "Overview: Ray Kinsella is an Iowa farmer who hears a mysterious voice telling him to turn his cornfield into a baseball diamond. He does, but the voice's directions don't stop -- even after the spirits of deceased ballplayers turn up to play.\n",
      "{   119: ['mysterious', 'circus'],\n",
      "    129: ['great', 'spirit'],\n",
      "    157: ['mysterious', 'voice'],\n",
      "    161: ['baseball', 'team'],\n",
      "    176: ['new', 'direction'],\n",
      "    252: ['mysterious', 'mansion'],\n",
      "    291: ['local', 'farmer']}\n"
     ]
    }
   ],
   "source": [
    "print_movie_details(1256)"
   ]
  },
  {
   "cell_type": "markdown",
   "metadata": {},
   "source": [
    "## Browse topics\n",
    "\n",
    "topic_id ranges from 0 - 299 <br>\n",
    "get_top_label(topic_id)"
   ]
  },
  {
   "cell_type": "code",
   "execution_count": 364,
   "metadata": {},
   "outputs": [
    {
     "name": "stdout",
     "output_type": "stream",
     "text": [
      "LDA distribution: [('club', 0.10398337), ('choose', 0.05524126), ('behavior', 0.050058357), ('owner', 0.048141845), ('halloween', 0.029622752), ('singing', 0.029364608), ('catastrophe', 0.028086297), ('potential', 0.02472276), ('drummer', 0.023873845), ('stunning', 0.023380758)]\n",
      "Word Frequency: ['club', 'owner', 'love', 'life', 'new', 'night', 'house', 'young', 'meet', 'must']\n",
      "Theme: ['night', 'club']\n"
     ]
    }
   ],
   "source": [
    "browse_topic_id =  45\n",
    "print('LDA distribution:', lda.show_topic(browse_topic_id))\n",
    "print('Theme:',get_top_label(browse_topic_id))"
   ]
  },
  {
   "cell_type": "markdown",
   "metadata": {},
   "source": [
    "## Find intersection of document lists for multiple topics to filter down to a small list movies\n",
    "\n",
    "topic_id ranges from 0 - 299 <br> \n",
    "chain set(topics_docs[topic_id]) together to find the intersection of documents for topics chained"
   ]
  },
  {
   "cell_type": "code",
   "execution_count": 368,
   "metadata": {},
   "outputs": [
    {
     "name": "stdout",
     "output_type": "stream",
     "text": [
      "Title: Girls! Girls! Girls!\n",
      "Overview: Elvis plays Ross Carpenter, a fishing guide/sailor who loves his life out on the sea. When he finds out his boss is retiring to Arizona, he has to find a way to buy the Westwind, a boat that he and his father built. He is also caught between two women: insensitive club singer Robin and sweet Laurel.\n",
      "{   31: ['woman', 'caught'],\n",
      "    45: ['club', 'life'],\n",
      "    57: ['father', 'try'],\n",
      "    115: ['life', 'boat'],\n",
      "    125: ['sweet', 'love'],\n",
      "    132: ['sea', 'travel'],\n",
      "    189: ['disturbed', 'woman'],\n",
      "    226: ['tortured', 'woman'],\n",
      "    283: ['lead', 'singer']}\n",
      "=======================================\n",
      "Title: Homicidal\n",
      "Overview: The story centers around a murderous scheme to collect a rich inheritance. The object of murder is Miriam Webster, who is to share in the inheritance with her half brother Warren, who lives with his childhood guardian Helga in the mansion where Warren and Mariam grew up. Confined to a wheelchair after recently suffering a stroke, Helga is cared for by her nurse Emily, a strange young woman who has formed a close bond with Warren.\n",
      "{   3: ['audacious', 'scheme'],\n",
      "    14: ['childhood', 'friend'],\n",
      "    42: ['strange', 'woman'],\n",
      "    45: ['young', 'owner'],\n",
      "    53: ['alien', 'woman'],\n",
      "    69: ['young', 'female'],\n",
      "    70: ['woman', 'lawyer'],\n",
      "    80: ['mystery', 'woman'],\n",
      "    102: ['young', 'life'],\n",
      "    110: ['young', 'theater'],\n",
      "    120: ['second', 'woman'],\n",
      "    128: ['woman', 'share'],\n",
      "    144: ['young', 'relative'],\n",
      "    179: ['rehab', 'center'],\n",
      "    187: ['young', 'brother'],\n",
      "    189: ['disturbed', 'woman'],\n",
      "    243: ['native', 'woman'],\n",
      "    252: ['woman', 'revenge'],\n",
      "    282: ['young', 'object'],\n",
      "    289: ['young', 'king']}\n",
      "=======================================\n",
      "Title: Moon Zero Two\n",
      "Overview: The colonisation of space began in 1986 and now, fifty years on, the moon is frontier territory. The prospectors, the drillers, the exploiters and the exploited all surviving in this alien environment. The prospects for lucrative rewards exist but the premium paid for potential gain is often the ultimate sacrifice- life.\n",
      "{   39: ['space', 'try'],\n",
      "    45: ['potential', 'love'],\n",
      "    53: ['full', 'moon'],\n",
      "    68: ['new', 'territory'],\n",
      "    189: ['surviving', 'member'],\n",
      "    211: ['ultimate', 'power'],\n",
      "    242: ['home', 'environment'],\n",
      "    258: ['friend', 'gain']}\n",
      "=======================================\n",
      "Title: The Roommate\n",
      "Overview: When Sara (Minka Kelly), a young design student from Iowa, arrives for college in Los Angeles, she is eager to fit in and get to know the big city. Her wealthy roommate, Rebecca (Leighton Meester), is more than eager to take Sara under her wing and show her the ropes. The two become close, but when Sara begins to branch out and make more friends on campus, Rebecca becomes resentful. Alarmed, Sara moves in with her new boyfriend, causing Rebecca's behavior to take a violent turn.\n",
      "{   1: ['young', 'design'],\n",
      "    12: ['young', 'college'],\n",
      "    23: ['major', 'show'],\n",
      "    45: ['new', 'behavior'],\n",
      "    46: ['roommate', 'get'],\n",
      "    64: ['new', 'celebrity'],\n",
      "    78: ['young', 'student'],\n",
      "    79: ['new', 'boyfriend'],\n",
      "    91: ['new', 'target'],\n",
      "    102: ['young', 'life'],\n",
      "    128: ['new', 'apartment'],\n",
      "    154: ['close', 'fight'],\n",
      "    157: ['big', 'voice'],\n",
      "    189: ['young', 'guard'],\n",
      "    251: ['young', 'orphan'],\n",
      "    254: ['city', 'punk'],\n",
      "    258: ['wealthy', 'friend']}\n",
      "=======================================\n",
      "Title: The Ghost and Mrs. Muir\n",
      "Overview: In 1900, strong-willed widow Lucy Muir goes to live in Gull Cottage by the British seaside, even though it appears to be haunted. Sure enough, that very night she meets the ghost of crusty former owner Captain Gregg...and refuses to be scared off. Indeed, they become friends and allies, after Lucy gets used to the idea of a man's ghost haunting her bedroom. But when a charming live man comes courting, Lucy and the captain must deal with their feelings for each other.\n",
      "{   12: ['charming', 'story'],\n",
      "    18: ['one', 'man'],\n",
      "    26: ['magical', 'night'],\n",
      "    45: ['night', 'club'],\n",
      "    93: ['determined', 'man'],\n",
      "    123: ['new', 'ally'],\n",
      "    189: ['disturbed', 'man'],\n",
      "    223: ['live', 'stand-up'],\n",
      "    224: ['child', 'ghost'],\n",
      "    246: ['hand', 'man']}\n",
      "=======================================\n",
      "Title: Crawlspace\n",
      "Overview: The Gates family dream house turns quickly into a nightmare when their life is disturbed by the deranged previous owner who plots to retake his home and the Gates children for his own - hiding in the house attic and methodically taking out all those that stand in his way.\n",
      "{   0: ['family', 'house'],\n",
      "    43: ['urban', 'nightmare'],\n",
      "    45: ['house', 'owner'],\n",
      "    62: ['new', 'family'],\n",
      "    63: ['deranged', 'killer'],\n",
      "    99: ['previous', 'family'],\n",
      "    117: ['live', 'stand'],\n",
      "    189: ['disturbed', 'child'],\n",
      "    205: ['weird', 'family'],\n",
      "    233: ['care', 'home'],\n",
      "    296: ['nefarious', 'plot']}\n",
      "=======================================\n",
      "Title: Paul Blart: Mall Cop 2\n",
      "Overview: Security guard Paul Blart is headed to Las Vegas to attend a Security Guard Expo with his teenage daughter Maya before she departs for college. While at the convention, he inadvertently discovers a heist - and it's up to Blart to apprehend the criminals.\n",
      "{   12: ['college', 'friend'],\n",
      "    45: ['singing', 'daughter'],\n",
      "    47: ['job', 'security'],\n",
      "    101: ['teenage', 'daughter'],\n",
      "    189: ['life', 'guard'],\n",
      "    234: ['heist', 'money']}\n",
      "=======================================\n",
      "Title: Party Monster\n",
      "Overview: The New York club scene of the 80s and 90s was a world like no other. Into this candy-colored, mirror ball playground stepped Michael Alig, a wannabe from nowhere special. Under the watchful eye of veteran club kid James St. James, Alig quickly rose to the top... and there was no place to go but down.\n",
      "{   22: ['new', 'kid'],\n",
      "    45: ['club', 'life'],\n",
      "    88: ['new', 'place'],\n",
      "    89: ['watchful', 'eye'],\n",
      "    104: ['top', 'crime'],\n",
      "    106: ['young', 'wannabe'],\n",
      "    189: ['gritty', 'world'],\n",
      "    197: ['new', 'round'],\n",
      "    204: ['special', 'world'],\n",
      "    209: ['teenager', 'world'],\n",
      "    271: ['new', 'employee'],\n",
      "    277: ['old', 'veteran'],\n",
      "    283: ['new', 'band']}\n",
      "=======================================\n",
      "Title: Eye for an Eye\n",
      "Overview: A group of middle-class friends, driving around São Paulo, choose one of the women as a bait to attract a victim, object of their alienation and moral aggressiveness.\n",
      "{   45: ['singing', 'group'],\n",
      "    63: ['old', 'victim'],\n",
      "    80: ['mystery', 'woman'],\n",
      "    97: ['couple', 'driving'],\n",
      "    100: ['intelligent', 'woman'],\n",
      "    189: ['disturbed', 'woman'],\n",
      "    282: ['new', 'object']}\n",
      "=======================================\n",
      "Title: Islander\n",
      "Overview: After a tragic accident at sea, Eben Cole loses his family, friends and stature in his island fishing community. He returns to the island an outcast but determined to win back the way of life he fought so hard to protect. Set against the stunning backdrop of the Maine coast, Islander captures the grit and integrity of this hard working community and celebrates man's unerring need for redemption.\n",
      "{   25: ['life', 'backdrop'],\n",
      "    33: ['life', 'redemption'],\n",
      "    45: ['family', 'singing'],\n",
      "    82: ['new', 'community'],\n",
      "    86: ['car', 'accident'],\n",
      "    93: ['determined', 'man'],\n",
      "    107: ['family', 'island'],\n",
      "    115: ['capture', 'life'],\n",
      "    123: ['stuffy', 'family'],\n",
      "    132: ['sea', 'travel'],\n",
      "    189: ['disturbed', 'man'],\n",
      "    192: ['brutal', 'way'],\n",
      "    211: ['way', 'battle'],\n",
      "    247: ['tragic', 'family'],\n",
      "    250: ['hard', 'way'],\n",
      "    265: ['battle', 'fought']}\n",
      "=======================================\n",
      "Title: A Prayer for Rain\n",
      "Overview: Thirty years on from the 1984 Union Carbide plant malfunction, the consequences of which are tragically ongoing, A Prayer for Rain is the powerful and moving story of the Bhopal tragedy, one of the great corporate and environmental scandals of the last half-century. It dramatises the dependence of the local community on the chemical plant that will eventually cause catastrophe, and the series of oversights that led to an event that stands as a benchmark for corporate irresponsibility in the developing world.\n",
      "{   21: ['local', 'tribe'],\n",
      "    25: ['fun', 'world'],\n",
      "    45: ['living', 'catastrophe'],\n",
      "    55: ['new', 'series'],\n",
      "    60: ['powerful', 'force'],\n",
      "    82: ['local', 'community'],\n",
      "    87: ['local', 'policeman'],\n",
      "    117: ['last', 'stand'],\n",
      "    132: ['team', 'cause'],\n",
      "    182: ['plant', 'world'],\n",
      "    186: ['thirty', 'year'],\n",
      "    189: ['gritty', 'world'],\n",
      "    200: ['local', 'boy'],\n",
      "    249: ['following', 'story'],\n",
      "    264: ['corporate', 'life'],\n",
      "    268: ['former', 'tragedy']}\n",
      "=======================================\n",
      "Title: A River Runs Through It\n",
      "Overview: A River Runs Through is a cinematographically stunning true story of Norman Maclean. The story follows Norman and his brother Paul through the experiences of life and growing up, and how their love of fly fishing keeps them together despite varying life circumstances in the untamed west of Montana in the 1920's.\n",
      "{   40: ['national', 'story'],\n",
      "    45: ['club', 'life'],\n",
      "    52: ['safe', 'life'],\n",
      "    74: ['life', 'story'],\n",
      "    110: ['famous', 'love'],\n",
      "    117: ['life', 'unravel'],\n",
      "    130: ['perfect', 'life'],\n",
      "    172: ['tender', 'love'],\n",
      "    187: ['old', 'brother'],\n",
      "    189: ['life', 'guard'],\n",
      "    219: ['life', 'philosopher']}\n",
      "=======================================\n"
     ]
    },
    {
     "name": "stdout",
     "output_type": "stream",
     "text": [
      "Title: This Time Around\n",
      "Overview: We all wish we could change the past. For Mel that day has come. In junior high, Mel and Gabby (Sara Rue) were the biggest geeks. Of course, Mel had a crush on the most popular guy, Drew Hesler (Brian A. Green). When word spreads of Mel’s crush, he plays a cruel joke on her pretending to be interested, only to turn her down in front of the entire school. Eleven years later, our ugly ducklings are now swans and Mel is a PR executive. When Mel is assigned to handle the publicity for a new restaurant, she is shocked to discover that the owner is a handsome young entrepreneur named Drew Hesler.\n",
      "{   45: ['young', 'owner'],\n",
      "    78: ['school', 'day'],\n",
      "    104: ['first', 'crush'],\n",
      "    116: ['wish', 'come'],\n",
      "    163: ['new', 'guy'],\n",
      "    181: ['immigrant', 'day'],\n",
      "    189: ['young', 'guard'],\n",
      "    190: ['new', 'year'],\n",
      "    205: ['new', 'location']}\n",
      "=======================================\n",
      "Title: Poor Pierrot\n",
      "Overview: One night, Arlequin come to see his lover Colombine. But then Pierrot knocks at the door and Colombine and Arlequin hide. Pierrot starts singing but Arlequin scares him and the poor man goes away.\n",
      "{   26: ['magical', 'night'],\n",
      "    45: ['night', 'club'],\n",
      "    103: ['lover', 'come'],\n",
      "    189: ['night', 'guard'],\n",
      "    196: ['next', 'man'],\n",
      "    251: ['poor', 'man']}\n",
      "=======================================\n",
      "Title: Goal!: The Dream Begins\n",
      "Overview: Like millions of kids around the world, Santiago harbors the dream of being a professional footballer...However, living in the Barrios section of Los Angeles, he thinks it is only that--a dream. Until one day an extraordinary turn of events has him trying out for Premiership club Newcastle United.\n",
      "{   8: ['extraordinary', 'power'],\n",
      "    18: ['bad', 'day'],\n",
      "    22: ['kid', 'living'],\n",
      "    45: ['club', 'life'],\n",
      "    55: ['new', 'event'],\n",
      "    64: ['wacky', 'world'],\n",
      "    80: ['living', 'key'],\n",
      "    140: ['professional', 'world'],\n",
      "    178: ['obsessed', 'world'],\n",
      "    189: ['gritty', 'world']}\n",
      "=======================================\n",
      "Title: Enchantment\n",
      "Overview: Uncle Rollo finally retires to the house he was brought up in. Lost in thoughts of his lost love, Lark, he does not want to be disturbed in his last days. However, the appearance of his niece and the subsequent romance between her and Lark's nephew causes him to reevaluate his life and offer some advice so the young couple don't make the same mistake he did, all those years ago.\n",
      "{   24: ['nephew', 'fall'],\n",
      "    35: ['day', 'hospital'],\n",
      "    45: ['young', 'owner'],\n",
      "    47: ['subsequent', 'work'],\n",
      "    74: ['tale', 'love'],\n",
      "    119: ['young', 'circus'],\n",
      "    169: ['first', 'mistake'],\n",
      "    189: ['disturbed', 'child'],\n",
      "    210: ['last', 'master'],\n",
      "    248: ['prank', 'love'],\n",
      "    277: ['experience', 'romance'],\n",
      "    297: ['happy', 'couple'],\n",
      "    299: ['gay', 'couple']}\n",
      "=======================================\n",
      "Title: Life of an American Fireman\n",
      "Overview: Porter's sequential continuity editing links several shots to form a narrative of firemen responding to a house fire. They leave the station with their horse drawn pumper, arrive on the scene, and effect the safe rescue of a woman from the burning house. But wait, she tells them of her child yet asleep in the burning bedroom...\n",
      "{   11: ['last', 'shot'],\n",
      "    14: ['childhood', 'house'],\n",
      "    45: ['house', 'owner'],\n",
      "    52: ['safe', 'life'],\n",
      "    57: ['young', 'horse'],\n",
      "    66: ['fire', 'power'],\n",
      "    71: ['fall', 'asleep'],\n",
      "    153: ['rescue', 'attempt'],\n",
      "    178: ['simple', 'woman'],\n",
      "    189: ['disturbed', 'woman'],\n",
      "    194: ['gem-like', 'effect'],\n",
      "    262: ['woman', 'journalist']}\n",
      "=======================================\n",
      "Title: Mater and the Ghostlight\n",
      "Overview: Mater, the rusty but trusty tow truck from Cars, spends a day in Radiator Springs playing scary pranks on his fellow townsfolk. That night at Flo's V8 Café, the Sheriff tells the story of the legend of the Ghostlight, and as everyone races home Mater is left alone primed for a good old-fashioned scare.\n",
      "{   3: ['story', 'stranger'],\n",
      "    16: ['old', 'fellow'],\n",
      "    45: ['good', 'drummer'],\n",
      "    74: ['classic', 'story'],\n",
      "    79: ['spends', 'time'],\n",
      "    85: ['old', 'legend'],\n",
      "    96: ['spring', 'break'],\n",
      "    100: ['hot', 'day'],\n",
      "    115: ['new', 'race'],\n",
      "    153: ['scary', 'turn'],\n",
      "    163: ['team', 'playing'],\n",
      "    189: ['night', 'guard'],\n",
      "    248: ['prank', 'love'],\n",
      "    249: ['following', 'day']}\n",
      "=======================================\n",
      "Title: The Last Dive\n",
      "Overview: The story, set in Lisbon, concerns Eloi (Henrique Canto e Castro), a paunchy middle-aged man, who finds Samuel (Dinis Neto Jorge), a young sad sack, about to kill himself by plunging into the sea. Eloi takes Samuel under his wing, giving him a hot meal and bringing him to a seedy night club to introduce him to Esperanca (Fabienne Babe), who is said to be the most beautiful prostitute in Lisbon—and is also Eloi’s daughter.\n",
      "{   4: ['young', 'prostitute'],\n",
      "    26: ['magical', 'night'],\n",
      "    45: ['night', 'club'],\n",
      "    71: ['sad', 'life'],\n",
      "    84: ['middle-aged', 'man'],\n",
      "    100: ['hot', 'friend'],\n",
      "    128: ['man', 'share'],\n",
      "    132: ['young', 'sea'],\n",
      "    138: ['homeless', 'man'],\n",
      "    140: ['young', 'professional'],\n",
      "    155: ['young', 'worker'],\n",
      "    180: ['man', 'army'],\n",
      "    189: ['night', 'guard'],\n",
      "    249: ['following', 'story']}\n",
      "=======================================\n",
      "Title: Miss Sweden\n",
      "Overview: Moa is in her early 20s, works at a factory and lives by herself in a cottage in the forest. She is a vegan and follows her friends and demonstrations, mostly to fit in. But at home, by herself, she listens to pop music and use make-up.\n",
      "{   12: ['forest', 'home'],\n",
      "    32: ['country', 'life'],\n",
      "    45: ['club', 'life'],\n",
      "    79: ['music', 'help'],\n",
      "    128: ['good', 'fit'],\n",
      "    131: ['dead', 'pop'],\n",
      "    143: ['fresh', 'life'],\n",
      "    155: ['factory', 'work'],\n",
      "    189: ['life', 'guard'],\n",
      "    208: ['early', 'work']}\n",
      "=======================================\n",
      "Title: One Body Too Many\n",
      "Overview: An insurance salesman, Albert Tuttle, is hired as a body guard for a millionaire.\n",
      "{   45: ['millionaire', 'owner'],\n",
      "    91: ['salesman', 'working'],\n",
      "    116: ['life', 'insurance'],\n",
      "    189: ['life', 'guard'],\n",
      "    270: ['body', 'home']}\n",
      "=======================================\n",
      "Title: A Man with Warranty\n",
      "Overview: A big mall security guard becomes friend with the attractive woman. The only problem: he doesn't know yet that she is a mall owner.\n",
      "{   18: ['woman', 'figure'],\n",
      "    45: ['first', 'owner'],\n",
      "    46: ['woman', 'friend'],\n",
      "    47: ['job', 'security'],\n",
      "    91: ['attractive', 'woman'],\n",
      "    189: ['disturbed', 'woman'],\n",
      "    203: ['difficult', 'woman']}\n",
      "=======================================\n",
      "Title: From Mexico With Love\n",
      "Overview: A washed-up trainer takes a self-destructive young boxer under his wing.\n",
      "{45: ['young', 'owner'], 67: ['take', 'flight'], 189: ['young', 'guard']}\n",
      "=======================================\n",
      "Title: Nancy Drew\n",
      "Overview: Intrepid teenage private eye Nancy Drew heads to Tinseltown with her father to investigate the unsolved murder of a movie star in this old-fashioned whodunit based on Carolyn Keene's popular series of books for young adults. But can the small-town girl cut through the Hollywood hype to solve the case?\n",
      "{   0: ['young', 'adult'],\n",
      "    45: ['singing', 'star'],\n",
      "    57: ['young', 'father'],\n",
      "    70: ['murder', 'case'],\n",
      "    89: ['watchful', 'eye'],\n",
      "    101: ['young', 'girl'],\n",
      "    112: ['first', 'cut'],\n",
      "    164: ['old', 'book'],\n",
      "    171: ['young', 'author'],\n",
      "    189: ['young', 'guard'],\n",
      "    238: ['private', 'life'],\n",
      "    253: ['popular', 'twin'],\n",
      "    264: ['young', 'charismatic'],\n",
      "    268: ['young', 'beauty'],\n",
      "    273: ['young', 'writer']}\n",
      "=======================================\n",
      "Title: The In Crowd\n",
      "Overview: A mentally disturbed young woman takes a job at a posh country club and falls in with a clique of wealthy college kids where she's taken under the wing of the clique's twisted leader, who harbors some dark secrets too terrifying to tell.\n",
      "{   12: ['young', 'college'],\n",
      "    19: ['young', 'leader'],\n",
      "    22: ['young', 'kid'],\n",
      "    45: ['young', 'owner'],\n",
      "    52: ['terrifying', 'experience'],\n",
      "    128: ['woman', 'share'],\n",
      "    133: ['dark', 'secret'],\n",
      "    189: ['twisted', 'woman'],\n",
      "    225: ['young', 'warrior'],\n",
      "    258: ['wealthy', 'friend']}\n",
      "=======================================\n",
      "Title: The Beach Girls and the Monster\n",
      "Overview: A young girl is killed at the beach in Malibu. Professor Otto Lindsay suspects that it is some form of mutated fish. However, his son Richard, who was a good friend of the girl, thinks that it is a madman who has a grudge against Richard and his friends. Soon the list of victims grows to include one of Rich's surfing buddies, Rich's bitchy stepmother Vicky and his friend Mark who was crippled in an auto accident.\n",
      "{   21: ['endless', 'list'],\n",
      "    36: ['crippled', 'sister'],\n",
      "    45: ['good', 'drummer'],\n",
      "    46: ['good', 'friend'],\n",
      "    57: ['good', 'son'],\n",
      "    63: ['young', 'victim'],\n",
      "    64: ['part', 'madman'],\n",
      "    66: ['wicked', 'stepmother'],\n",
      "    73: ['good', 'doctor'],\n",
      "    86: ['car', 'accident'],\n",
      "    101: ['good', 'girl'],\n",
      "    150: ['young', 'professor'],\n",
      "    169: ['young', 'cousin'],\n",
      "    170: ['young', 'gypsy'],\n",
      "    189: ['young', 'guard']}\n",
      "=======================================\n"
     ]
    },
    {
     "name": "stdout",
     "output_type": "stream",
     "text": [
      "Title: Oasis of Fear\n",
      "Overview: Two young sexually free hippies, Dick (Ray Lovelock) and Ingrid (Ornella Muti) finance their travels by selling naked snaps of Ingrid until their plan is brought to an abrupt end by the Police. Forced on the run the two seek refuge at a seemingly empty isolated large villa. As it turns out the house is inhabited by the middle-aged Barbara (Irene Papas) who invites them in for some potential three-way hanky-panky that soon locks them into something far more twisted and chilling!\n",
      "{   16: ['isolated', 'house'],\n",
      "    25: ['naked', 'man'],\n",
      "    45: ['potential', 'love'],\n",
      "    70: ['young', 'lawyer'],\n",
      "    83: ['young', 'lead'],\n",
      "    84: ['middle-aged', 'man'],\n",
      "    101: ['young', 'teenage'],\n",
      "    169: ['young', 'cousin'],\n",
      "    189: ['twisted', 'life'],\n",
      "    216: ['large', 'house'],\n",
      "    230: ['young', 'police'],\n",
      "    261: ['find', 'refuge'],\n",
      "    290: ['cold', 'plan']}\n",
      "=======================================\n",
      "Title: La Cage aux folles\n",
      "Overview: Two gay men living in St. Tropez have their lives turned upside down when the son of one of the men announces he is getting married. They try conceal their lifestyle and their ownership of the transvestite club downstairs when the fiancée and her parents come for dinner.\n",
      "{   26: ['family', 'dinner'],\n",
      "    45: ['club', 'life'],\n",
      "    57: ['son', 'living'],\n",
      "    99: ['former', 'fiancée'],\n",
      "    139: ['married', 'life'],\n",
      "    189: ['twisted', 'living'],\n",
      "    222: ['carefree', 'lifestyle'],\n",
      "    243: ['businessman', 'living'],\n",
      "    299: ['gay', 'life']}\n",
      "=======================================\n",
      "Title: 8 Women\n",
      "Overview: Eight women gather to celebrate Christmas in a snowbound cottage, only to find the family patriarch dead with a knife in his back. Trapped in the house, every woman becomes a suspect, each having her own motive and secret.\n",
      "{   45: ['family', 'singing'],\n",
      "    133: ['family', 'gather'],\n",
      "    189: ['disturbed', 'woman'],\n",
      "    224: ['little', 'family'],\n",
      "    227: ['refugee', 'family'],\n",
      "    250: ['family', 'issue']}\n",
      "=======================================\n",
      "Title: Like Dandelion Dust\n",
      "Overview: A compelling drama that explores the different meanings of being a parent through the gritty, realistic lives of a struggling family, and a privileged family. Their lives intersect, intertwine and collide, all for the love of a little boy. This film bravely exposes the humanity in each character reminding us that we each have the potential to be the best and worst versions of ourselves at any time.\n",
      "{   7: ['various', 'family'],\n",
      "    22: ['realistic', 'way'],\n",
      "    32: ['different', 'character'],\n",
      "    45: ['potential', 'love'],\n",
      "    46: ['family', 'friend'],\n",
      "    118: ['worst', 'life'],\n",
      "    135: ['little', 'wonder'],\n",
      "    137: ['part', 'expose'],\n",
      "    146: ['debt', 'family'],\n",
      "    189: ['gritty', 'life'],\n",
      "    200: ['family', 'boy'],\n",
      "    201: ['life', 'meaning'],\n",
      "    228: ['world', 'collide'],\n",
      "    248: ['prank', 'love'],\n",
      "    256: ['family', 'drama'],\n",
      "    257: ['family', 'film'],\n",
      "    273: ['family', 'movie'],\n",
      "    287: ['buried', 'family']}\n",
      "=======================================\n",
      "Title: Emelie\n",
      "Overview: After their regular babysitter Maggie can’t make it, the Thompson family turns to her friend Anna to supervise their children while the parents go out to celebrate their anniversary. At first Anna seems like a dream come true to the kids, allowing them to eat extra cookies and play with things that are usually off-limits, but as her behavior becomes increasingly odd, the kids soon find out that her intentions are dark and twisted, and she is not who she seems to be.\n",
      "{   22: ['rich', 'kid'],\n",
      "    26: ['magical', 'family'],\n",
      "    27: ['first', 'intention'],\n",
      "    30: ['family', 'hall'],\n",
      "    45: ['new', 'behavior'],\n",
      "    56: ['loving', 'family'],\n",
      "    70: ['family', 'lawyer'],\n",
      "    78: ['classmate', 'make'],\n",
      "    133: ['dark', 'family'],\n",
      "    186: ['regular', 'life'],\n",
      "    189: ['twisted', 'life'],\n",
      "    227: ['refugee', 'family'],\n",
      "    244: ['odd', 'family'],\n",
      "    261: ['serious', 'family'],\n",
      "    285: ['family', 'face']}\n",
      "=======================================\n",
      "Title: Gulliver Mickey\n",
      "Overview: Mickey is first seen reading Gulliver's Travels while the mice orphan children are pretending to be sailors. After ruining their game Mickey tries to make it up to them by retelling the Liliput sequences of Gulliver's Travels pretending it was a real event that happened to him by portraying the role of Gulliver. The story ends with Mickey saving the town from a giant spider (Pete). However after telling the story, one of the children dangles a fake spider attached to a fishing rod which scares Mickey out of his witts.\n",
      "{   14: ['real', 'one'],\n",
      "    26: ['old', 'sailor'],\n",
      "    45: ['first', 'owner'],\n",
      "    73: ['local', 'spider'],\n",
      "    79: ['first', 'boyfriend'],\n",
      "    101: ['teenage', 'story'],\n",
      "    163: ['first', 'game'],\n",
      "    173: ['dream', 'sequence'],\n",
      "    189: ['disturbed', 'child'],\n",
      "    190: ['first', 'year'],\n",
      "    231: ['small', 'child'],\n",
      "    257: ['film', 'story']}\n",
      "=======================================\n",
      "Title: The Caretaker\n",
      "Overview: A group of teenage boys out to give their girlfriends a good scare on Homecoming night, which also happens to be Halloween, head to an abandoned house in an out-of-the-way fruit orchard where they uncover the story of a real life urban legend.\n",
      "{   14: ['real', 'life'],\n",
      "    43: ['urban', 'story'],\n",
      "    45: ['good', 'drummer'],\n",
      "    85: ['old', 'legend'],\n",
      "    101: ['teenage', 'story'],\n",
      "    127: ['life', 'head'],\n",
      "    135: ['failed', 'life'],\n",
      "    189: ['night', 'guard'],\n",
      "    200: ['boy', 'friend'],\n",
      "    290: ['normal', 'house']}\n",
      "=======================================\n",
      "Title: The Flamingo Kid\n",
      "Overview: Brooklyn teenager Jeffrey Willis, thoroughly unhappy with his modest homestead, embraces the other-world aspects of his summer job at the posh Flamingo Club. He spurns his father in favor of the patronage of smooth-talking Phil Brody and is seduced by the ample bikini charms of club member Carla Samson. But thanks to a couple of late-summer hard lessons, the teen eventually realizes that family should always come first.\n",
      "{   45: ['family', 'singing'],\n",
      "    56: ['loving', 'family'],\n",
      "    57: ['father', 'come'],\n",
      "    186: ['unhappy', 'life'],\n",
      "    189: ['surviving', 'member'],\n",
      "    216: ['first', 'teen'],\n",
      "    250: ['family', 'issue'],\n",
      "    272: ['life', 'lesson'],\n",
      "    282: ['family', 'summer']}\n",
      "=======================================\n",
      "Title: First Name: Carmen\n",
      "Overview: The protagonist is Carmen X, a female member of a terrorist gang. She asks her uncle Jean, a washed-up film director if she can borrow his beachside house to make a film with some friends, but they are in fact planning to rob a bank. During the robbery she falls in love with a security guard. The film intercuts between Carmen's escape with the guard, her uncle's attempt to make a comeback film, and a string quartet attempting to perform Beethoven.\n",
      "{   19: ['gang', 'member'],\n",
      "    45: ['house', 'owner'],\n",
      "    70: ['murder', 'attempt'],\n",
      "    109: ['terrorist', 'attempt'],\n",
      "    189: ['life', 'guard'],\n",
      "    257: ['film', 'director'],\n",
      "    267: ['new', 'uncle'],\n",
      "    271: ['bank', 'robbery'],\n",
      "    287: ['old', 'house']}\n",
      "=======================================\n",
      "Title: Lady Oscar\n",
      "Overview: Oscar François de Jarjayes was born female, but her father insisted she be raised as a boy as he had no sons. She becomes the captain of the guards at Versailles under King Louis XVI and Marie Antonette. Her privileged, noble life comes under fire as she discovers the hard life of the poor people of France. She is caught up in the French Revolution, and must choose between her loyalty and love.\n",
      "{   31: ['man', 'caught'],\n",
      "    45: ['club', 'life'],\n",
      "    57: ['father', 'come'],\n",
      "    66: ['fire', 'power'],\n",
      "    69: ['female', 'love'],\n",
      "    117: ['life', 'unravel'],\n",
      "    181: ['team', 'captain'],\n",
      "    189: ['life', 'guard'],\n",
      "    242: ['first', 'born'],\n",
      "    243: ['world', 'revolution'],\n",
      "    250: ['hard', 'life'],\n",
      "    251: ['poor', 'life'],\n",
      "    262: ['family', 'loyalty'],\n",
      "    287: ['buried', 'life'],\n",
      "    293: ['restless', 'life']}\n",
      "=======================================\n",
      "Title: Meeting David Wilson\n",
      "Overview: African American filmmaker David A. Wilson decided to look into his family's history during the slave era. The result is this documentary, which provides a unique perspective on the long shadow cast by slavery in America. Wilson travels to North Carolina to visit the plantation where his ancestors once toiled and to meet its current owner -- a white man named David Wilson, whose slave-owning ancestors originally occupied the property.\n",
      "{   0: ['family', 'house'],\n",
      "    4: ['white', 'man'],\n",
      "    38: ['plantation', 'life'],\n",
      "    45: ['family', 'singing'],\n",
      "    60: ['modern-day', 'family'],\n",
      "    63: ['murderer', 'meet'],\n",
      "    100: ['intelligent', 'man'],\n",
      "    121: ['cast', 'lead'],\n",
      "    129: ['unique', 'family'],\n",
      "    143: ['slave', 'life'],\n",
      "    146: ['debt', 'family'],\n",
      "    166: ['documentary', 'look'],\n",
      "    189: ['disturbed', 'man'],\n",
      "    215: ['family', 'property'],\n",
      "    232: ['shadow', 'man'],\n",
      "    240: ['year', 'history'],\n",
      "    247: ['era', 'family'],\n",
      "    257: ['family', 'film'],\n",
      "    265: ['family', 'battle']}\n",
      "=======================================\n"
     ]
    }
   ],
   "source": [
    "for doc_id in list(set(topics_docs[45]) & set(topics_docs[189]) ):\n",
    "    print_movie_details(doc_id)\n",
    "    print(\"=======================================\")"
   ]
  }
 ],
 "metadata": {
  "kernelspec": {
   "display_name": "Python 3",
   "language": "python",
   "name": "python3"
  },
  "language_info": {
   "codemirror_mode": {
    "name": "ipython",
    "version": 3
   },
   "file_extension": ".py",
   "mimetype": "text/x-python",
   "name": "python",
   "nbconvert_exporter": "python",
   "pygments_lexer": "ipython3",
   "version": "3.6.5"
  }
 },
 "nbformat": 4,
 "nbformat_minor": 2
}
